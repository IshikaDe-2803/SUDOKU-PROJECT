{
 "cells": [
  {
   "cell_type": "code",
   "execution_count": 124,
   "source": [
    "import numpy as np\r\n",
    "import random\r\n",
    "import math\r\n",
    "from math import exp"
   ],
   "outputs": [],
   "metadata": {}
  },
  {
   "cell_type": "code",
   "execution_count": 125,
   "source": [
    "sudokuPuzzle = np.array([[0,0,0,0,3,0,6,0,0],\r\n",
    "                         [5,0,0,9,0,0,4,0,0],\r\n",
    "                         [0,8,0,6,0,7,0,0,9],\r\n",
    "                         [0,7,0,0,0,0,8,0,1],\r\n",
    "                         [0,5,0,0,8,0,0,2,0],\r\n",
    "                         [3,0,8,0,0,0,0,5,0],\r\n",
    "                         [1,0,0,8,0,4,0,9,0],\r\n",
    "                         [0,0,2,0,0,6,0,0,5],\r\n",
    "                         [0,0,9,0,1,0,0,0,0]])\r\n",
    "#sudokuPuzzle"
   ],
   "outputs": [],
   "metadata": {}
  },
  {
   "cell_type": "code",
   "execution_count": 126,
   "source": [
    "def copy_grid(sudoku):\r\n",
    "    copiedPuzzle = []\r\n",
    "    for i in range(len(sudoku)):\r\n",
    "        copiedPuzzle.append(list(sudoku[i]))\r\n",
    "    return copiedPuzzle\r\n",
    "#copy_grid(sudokuPuzzle)"
   ],
   "outputs": [],
   "metadata": {}
  },
  {
   "cell_type": "code",
   "execution_count": 127,
   "source": [
    "def square_coordinates(sudoku, r, c):\r\n",
    "    square = []\r\n",
    "    row = []\r\n",
    "    square_size = int(math.sqrt(len(sudoku)))\r\n",
    "    for i in range((r - 1) * square_size, square_size + (r - 1) * square_size  ):\r\n",
    "        for j in range((c - 1) * square_size, square_size + (c - 1) * square_size ):\r\n",
    "            row.append(sudoku[i][j])\r\n",
    "        square.append(row)\r\n",
    "        row = []\r\n",
    "    return square\r\n",
    "            \r\n",
    "    \r\n",
    "#square_coordinates(sudokuPuzzle, 3, 3)\r\n",
    "    "
   ],
   "outputs": [],
   "metadata": {}
  },
  {
   "cell_type": "code",
   "execution_count": 128,
   "source": [
    "def nonFixedPositions(sudoku, r, c):\r\n",
    "    emptyIndices = []\r\n",
    "    square_size = int(math.sqrt(len(sudoku)))\r\n",
    "    square = square_coordinates(sudoku, r, c)\r\n",
    "    for i in range(square_size):\r\n",
    "        for j in range(square_size):\r\n",
    "            if(square[i][j] == 0):\r\n",
    "                emptyIndices.append([i, j])\r\n",
    "    return emptyIndices\r\n",
    "#nonFixedPositions(sudokuPuzzle, 1, 2)"
   ],
   "outputs": [],
   "metadata": {}
  },
  {
   "cell_type": "code",
   "execution_count": 129,
   "source": [
    "def pickRandomUnfixedPosition(sudoku, i, j):\r\n",
    "    randomIndex = random.randint(0, len(nonFixedPositions(sudoku, i, j)) - 1)\r\n",
    "    return nonFixedPositions(sudoku, i, j)[randomIndex]\r\n",
    "pickRandomUnfixedPosition(sudokuPuzzle, 1, 2)"
   ],
   "outputs": [
    {
     "output_type": "execute_result",
     "data": {
      "text/plain": [
       "[1, 2]"
      ]
     },
     "metadata": {},
     "execution_count": 129
    }
   ],
   "metadata": {}
  },
  {
   "cell_type": "code",
   "execution_count": 130,
   "source": [
    "def possibleNumsList(sudoku, i, j):\r\n",
    "    nonPossibilities = []\r\n",
    "    possibilities = []\r\n",
    "    square = square_coordinates(sudoku, i, j)\r\n",
    "    for row in square:\r\n",
    "        for num in row:\r\n",
    "            if (num != 0):\r\n",
    "                nonPossibilities.append(num)\r\n",
    "    for n in range(1, len(sudoku) + 1):\r\n",
    "        if (n not in nonPossibilities):\r\n",
    "            possibilities.append(n)\r\n",
    "    return possibilities\r\n",
    "\r\n",
    "#possibleNumsList(sudokuPuzzle, 2, 2)"
   ],
   "outputs": [],
   "metadata": {}
  },
  {
   "cell_type": "code",
   "execution_count": 143,
   "source": [
    "def fillBox(sudoku, i, j):\r\n",
    "    box = square_coordinates(sudoku, i, j)\r\n",
    "    listOfPossibilities = possibleNumsList(sudokuPuzzle, i, j)\r\n",
    "    notFixedPositions = nonFixedPositions(sudoku, i, j)\r\n",
    "    for x in range(len(notFixedPositions)):\r\n",
    "       box[notFixedPositions[x][0]][notFixedPositions[x][1]] = listOfPossibilities[x]\r\n",
    "    return np.array(box)\r\n",
    "fillBox(sudokuPuzzle, 1, 2)"
   ],
   "outputs": [
    {
     "output_type": "execute_result",
     "data": {
      "text/plain": [
       "array([[1, 3, 2],\n",
       "       [9, 4, 5],\n",
       "       [6, 8, 7]])"
      ]
     },
     "metadata": {},
     "execution_count": 143
    }
   ],
   "metadata": {}
  },
  {
   "cell_type": "code",
   "execution_count": 157,
   "source": [
    "def fillAllBoxes(sudoku):\r\n",
    "    randomSudoku = []\r\n",
    "    square_size = int(math.sqrt(len(sudoku)))\r\n",
    "    for i in range(1, square_size + 1):\r\n",
    "        for j in range(1, square_size + 1):\r\n",
    "            randomSudoku.append(fillBox(sudoku, i, j))\r\n",
    "    return randomSudoku\r\n",
    "fillAllBoxes(sudokuPuzzle)"
   ],
   "outputs": [
    {
     "output_type": "execute_result",
     "data": {
      "text/plain": [
       "[array([[1, 2, 3],\n",
       "        [5, 4, 6],\n",
       "        [7, 8, 9]]),\n",
       " array([[1, 3, 2],\n",
       "        [9, 4, 5],\n",
       "        [6, 8, 7]]),\n",
       " array([[6, 1, 2],\n",
       "        [4, 3, 5],\n",
       "        [7, 8, 9]]),\n",
       " array([[1, 7, 2],\n",
       "        [4, 5, 6],\n",
       "        [3, 9, 8]]),\n",
       " array([[1, 2, 3],\n",
       "        [4, 8, 5],\n",
       "        [6, 7, 9]]),\n",
       " array([[8, 3, 1],\n",
       "        [4, 2, 6],\n",
       "        [7, 5, 9]]),\n",
       " array([[1, 3, 4],\n",
       "        [5, 6, 2],\n",
       "        [7, 8, 9]]),\n",
       " array([[8, 2, 4],\n",
       "        [3, 5, 6],\n",
       "        [7, 1, 9]]),\n",
       " array([[1, 9, 2],\n",
       "        [3, 4, 5],\n",
       "        [6, 7, 8]])]"
      ]
     },
     "metadata": {},
     "execution_count": 157
    }
   ],
   "metadata": {}
  },
  {
   "cell_type": "code",
   "execution_count": 167,
   "source": [
    "def formalFills(A):\r\n",
    "    B=[]\r\n",
    "    for i in range(3):    \r\n",
    "        B.append(np.concatenate((A[0][i], A[1][i], A[2][i]), axis=None).tolist())\r\n",
    "    for i in range(3):    \r\n",
    "        B.append(np.concatenate((A[3][i], A[4][i], A[5][i]), axis=None).tolist())\r\n",
    "    for i in range(3):    \r\n",
    "        B.append(np.concatenate((A[6][i], A[7][i], A[8][i]), axis=None).tolist())\r\n",
    "\r\n",
    "formalFills(fillAllBoxes(sudokuPuzzle))  "
   ],
   "outputs": [
    {
     "output_type": "execute_result",
     "data": {
      "text/plain": [
       "[array([[1, 2, 3],\n",
       "        [5, 4, 6],\n",
       "        [7, 8, 9]]),\n",
       " array([[1, 3, 2],\n",
       "        [9, 4, 5],\n",
       "        [6, 8, 7]]),\n",
       " array([[6, 1, 2],\n",
       "        [4, 3, 5],\n",
       "        [7, 8, 9]]),\n",
       " array([[1, 7, 2],\n",
       "        [4, 5, 6],\n",
       "        [3, 9, 8]]),\n",
       " array([[1, 2, 3],\n",
       "        [4, 8, 5],\n",
       "        [6, 7, 9]]),\n",
       " array([[8, 3, 1],\n",
       "        [4, 2, 6],\n",
       "        [7, 5, 9]]),\n",
       " array([[1, 3, 4],\n",
       "        [5, 6, 2],\n",
       "        [7, 8, 9]]),\n",
       " array([[8, 2, 4],\n",
       "        [3, 5, 6],\n",
       "        [7, 1, 9]]),\n",
       " array([[1, 9, 2],\n",
       "        [3, 4, 5],\n",
       "        [6, 7, 8]])]"
      ]
     },
     "metadata": {},
     "execution_count": 167
    }
   ],
   "metadata": {}
  }
 ],
 "metadata": {
  "orig_nbformat": 4,
  "language_info": {
   "name": "python",
   "version": "3.9.6",
   "mimetype": "text/x-python",
   "codemirror_mode": {
    "name": "ipython",
    "version": 3
   },
   "pygments_lexer": "ipython3",
   "nbconvert_exporter": "python",
   "file_extension": ".py"
  },
  "kernelspec": {
   "name": "python3",
   "display_name": "Python 3.9.6 64-bit"
  },
  "interpreter": {
   "hash": "e23b2566916bf82def23edaac6dbf7c63e02da7d50271d8a8afcc16cc15065a3"
  }
 },
 "nbformat": 4,
 "nbformat_minor": 2
}