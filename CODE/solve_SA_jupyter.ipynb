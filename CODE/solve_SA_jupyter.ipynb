{
 "cells": [
  {
   "cell_type": "code",
   "execution_count": 36,
   "source": [
    "import numpy as np\r\n",
    "import random\r\n",
    "import math\r\n",
    "from math import exp"
   ],
   "outputs": [],
   "metadata": {}
  },
  {
   "cell_type": "code",
   "execution_count": 37,
   "source": [
    "sudokuPuzzle = np.array([[0,0,0,0,3,0,6,0,0],\r\n",
    "                         [5,0,0,9,0,0,4,0,0],\r\n",
    "                         [0,8,0,6,0,7,0,0,9],\r\n",
    "                         [0,7,0,0,0,0,8,0,1],\r\n",
    "                         [0,5,0,0,8,0,0,2,0],\r\n",
    "                         [3,0,8,0,0,0,0,5,0],\r\n",
    "                         [1,0,0,8,0,4,0,9,0],\r\n",
    "                         [0,0,2,0,0,6,0,0,5],\r\n",
    "                         [0,0,9,0,1,0,0,0,0]])\r\n",
    "#sudokuPuzzle"
   ],
   "outputs": [],
   "metadata": {}
  },
  {
   "cell_type": "code",
   "execution_count": 38,
   "source": [
    "def copy_grid(sudoku):\r\n",
    "    copiedPuzzle = []\r\n",
    "    for i in range(len(sudoku)):\r\n",
    "        copiedPuzzle.append(list(sudoku[i]))\r\n",
    "    return copiedPuzzle\r\n",
    "#copy_grid(sudokuPuzzle)"
   ],
   "outputs": [],
   "metadata": {}
  },
  {
   "cell_type": "code",
   "execution_count": 39,
   "source": [
    "def square_coordinates(sudoku, r, c):\r\n",
    "    square = []\r\n",
    "    row = []\r\n",
    "    square_size = int(math.sqrt(len(sudoku)))\r\n",
    "    for i in range((r - 1) * square_size, square_size + (r - 1) * square_size  ):\r\n",
    "        for j in range((c - 1) * square_size, square_size + (c - 1) * square_size ):\r\n",
    "            row.append(sudoku[i][j])\r\n",
    "        square.append(row)\r\n",
    "        row = []\r\n",
    "    return square\r\n",
    "            \r\n",
    "    \r\n",
    "#square_coordinates(sudokuPuzzle, 3, 3)\r\n",
    "    "
   ],
   "outputs": [],
   "metadata": {}
  },
  {
   "cell_type": "code",
   "execution_count": 40,
   "source": [
    "def nonFixedPositions(sudoku, r, c):\r\n",
    "    emptyIndices = []\r\n",
    "    square_size = int(math.sqrt(len(sudoku)))\r\n",
    "    square = square_coordinates(sudoku, r, c)\r\n",
    "    for i in range(square_size):\r\n",
    "        for j in range(square_size):\r\n",
    "            if(square[i][j] == 0):\r\n",
    "                emptyIndices.append([i, j])\r\n",
    "    return emptyIndices\r\n",
    "#nonFixedPositions(sudokuPuzzle, 1, 2)"
   ],
   "outputs": [],
   "metadata": {}
  },
  {
   "cell_type": "code",
   "execution_count": 41,
   "source": [
    "def pickRandomUnfixedPosition(sudoku, i, j):\r\n",
    "    randomIndex = random.randint(0, len(nonFixedPositions(sudoku, i, j)) - 1)\r\n",
    "    return nonFixedPositions(sudoku, i, j)[randomIndex]\r\n",
    "pickRandomUnfixedPosition(sudokuPuzzle, 1, 2)"
   ],
   "outputs": [
    {
     "output_type": "execute_result",
     "data": {
      "text/plain": [
       "[1, 2]"
      ]
     },
     "metadata": {},
     "execution_count": 41
    }
   ],
   "metadata": {}
  },
  {
   "cell_type": "code",
   "execution_count": 42,
   "source": [
    "def possibleNumsList(sudoku, i, j):\r\n",
    "    nonPossibilities = []\r\n",
    "    possibilities = []\r\n",
    "    square = square_coordinates(sudoku, i, j)\r\n",
    "    for row in square:\r\n",
    "        for num in row:\r\n",
    "            if (num != 0):\r\n",
    "                nonPossibilities.append(num)\r\n",
    "    for n in range(1, len(sudoku) + 1):\r\n",
    "        if (n not in nonPossibilities):\r\n",
    "            possibilities.append(n)\r\n",
    "    return possibilities\r\n",
    "\r\n",
    "#possibleNumsList(sudokuPuzzle, 2, 2)"
   ],
   "outputs": [],
   "metadata": {}
  },
  {
   "cell_type": "code",
   "execution_count": 43,
   "source": [
    "def fillBox(sudoku, i, j):\r\n",
    "    box = square_coordinates(sudoku, i, j)\r\n",
    "    listOfPossibilities = possibleNumsList(sudokuPuzzle, i, j)\r\n",
    "    notFixedPositions = nonFixedPositions(sudoku, i, j)\r\n",
    "    for x in range(len(notFixedPositions)):\r\n",
    "       box[notFixedPositions[x][0]][notFixedPositions[x][1]] = listOfPossibilities[x]\r\n",
    "    return np.array(box)\r\n",
    "#fillBox(sudokuPuzzle, 1, 2)"
   ],
   "outputs": [],
   "metadata": {}
  },
  {
   "cell_type": "code",
   "execution_count": 44,
   "source": [
    "def fillAllBoxes(sudoku):\r\n",
    "    A = []\r\n",
    "    B = []\r\n",
    "    square_size = int(math.sqrt(len(sudoku)))\r\n",
    "    for i in range(1, square_size + 1):\r\n",
    "        for j in range(1, square_size + 1):\r\n",
    "            A.append(fillBox(sudoku, i, j))\r\n",
    "\r\n",
    "###copied this part completely cause nahi ho raha tha, we need to \r\n",
    "###figure a better way to do this.\r\n",
    "    for i in range(3):    \r\n",
    "        B.append(np.concatenate((A[0][i], A[1][i], A[2][i]), axis=None).tolist())\r\n",
    "    for i in range(3):    \r\n",
    "        B.append(np.concatenate((A[3][i], A[4][i], A[5][i]), axis=None).tolist())\r\n",
    "    for i in range(3):    \r\n",
    "        B.append(np.concatenate((A[6][i], A[7][i], A[8][i]), axis=None).tolist())\r\n",
    "    return B\r\n",
    "fillAllBoxes(sudokuPuzzle)"
   ],
   "outputs": [
    {
     "output_type": "execute_result",
     "data": {
      "text/plain": [
       "[[1, 2, 3, 1, 3, 2, 6, 1, 2],\n",
       " [5, 4, 6, 9, 4, 5, 4, 3, 5],\n",
       " [7, 8, 9, 6, 8, 7, 7, 8, 9],\n",
       " [1, 7, 2, 1, 2, 3, 8, 3, 1],\n",
       " [4, 5, 6, 4, 8, 5, 4, 2, 6],\n",
       " [3, 9, 8, 6, 7, 9, 7, 5, 9],\n",
       " [1, 3, 4, 8, 2, 4, 1, 9, 2],\n",
       " [5, 6, 2, 3, 5, 6, 3, 4, 5],\n",
       " [7, 8, 9, 7, 1, 9, 6, 7, 8]]"
      ]
     },
     "metadata": {},
     "execution_count": 44
    }
   ],
   "metadata": {}
  },
  {
   "cell_type": "code",
   "execution_count": 45,
   "source": [
    "filledSudoku = fillAllBoxes(sudokuPuzzle)\r\n",
    "filledSudokuCopy = copy_grid(filledSudoku)\r\n",
    "#filledSudoku"
   ],
   "outputs": [],
   "metadata": {}
  },
  {
   "cell_type": "code",
   "execution_count": 46,
   "source": [
    "##Cost is the numbers that are missing from the line\r\n",
    "\"\"\"for example in line 1 [1, 2, 3, 1, 3, 2, 6, 1, 2]\r\n",
    "numbers 4, 5, 7, 8, 9 are missing, so cost = 5\r\n",
    "\r\n",
    "\"equate cost to the number of\r\n",
    "constraint violations\"\r\n",
    "\"\"\"\r\n",
    "def costOfRow(sudoku):\r\n",
    "    costList = []\r\n",
    "    for i in range(len(sudoku)):\r\n",
    "        row = sudoku[i]\r\n",
    "        cost = 0\r\n",
    "        for num in range(len(row)):\r\n",
    "            if row.count(num + 1) == 0:\r\n",
    "                cost += 1\r\n",
    "        costList.append(cost)\r\n",
    "    return sum(costList)\r\n",
    "#costOfRow(filledSudoku)"
   ],
   "outputs": [],
   "metadata": {}
  },
  {
   "cell_type": "code",
   "execution_count": 47,
   "source": [
    "def costOfColumn(sudoku):\r\n",
    "    costList = []\r\n",
    "    transposedSudoku = np.transpose(sudoku)\r\n",
    "    for i in range(len(sudoku)):\r\n",
    "        col = transposedSudoku[i]\r\n",
    "        cost = 0\r\n",
    "        for num in range(len(col)):\r\n",
    "            if col.tolist().count(num + 1) == 0:\r\n",
    "                cost += 1\r\n",
    "        costList.append(cost)\r\n",
    "    return sum(costList)\r\n",
    "#costOfColumn(filledSudoku)"
   ],
   "outputs": [],
   "metadata": {}
  },
  {
   "cell_type": "code",
   "execution_count": 48,
   "source": [
    "def totalCost(sudoku):\r\n",
    "    return costOfRow(sudoku) + costOfColumn(sudoku)"
   ],
   "outputs": [],
   "metadata": {}
  }
 ],
 "metadata": {
  "orig_nbformat": 4,
  "language_info": {
   "name": "python",
   "version": "3.9.6",
   "mimetype": "text/x-python",
   "codemirror_mode": {
    "name": "ipython",
    "version": 3
   },
   "pygments_lexer": "ipython3",
   "nbconvert_exporter": "python",
   "file_extension": ".py"
  },
  "kernelspec": {
   "name": "python3",
   "display_name": "Python 3.9.6 64-bit"
  },
  "interpreter": {
   "hash": "e23b2566916bf82def23edaac6dbf7c63e02da7d50271d8a8afcc16cc15065a3"
  }
 },
 "nbformat": 4,
 "nbformat_minor": 2
}