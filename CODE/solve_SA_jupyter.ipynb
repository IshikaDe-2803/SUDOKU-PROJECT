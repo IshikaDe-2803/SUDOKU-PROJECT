{
 "cells": [
  {
   "cell_type": "code",
   "execution_count": null,
   "metadata": {},
   "outputs": [],
   "source": [
    "import numpy as np\n",
    "import random\n",
    "import math\n",
    "from math import exp"
   ]
  },
  {
   "cell_type": "code",
   "execution_count": null,
   "metadata": {},
   "outputs": [],
   "source": [
    "sudokuPuzzle = np.array([[0,0,0,0,3,0,6,0,0],\n",
    "                         [5,0,0,9,0,0,4,0,0],\n",
    "                         [0,8,0,6,0,7,0,0,9],\n",
    "                         [0,7,0,0,0,0,8,0,1],\n",
    "                         [0,5,0,0,8,0,0,2,0],\n",
    "                         [3,0,8,0,0,0,0,5,0],\n",
    "                         [1,0,0,8,0,4,0,9,0],\n",
    "                         [0,0,2,0,0,6,0,0,5],\n",
    "                         [0,0,9,0,1,0,0,0,0]])\n",
    "box_size = int(math.sqrt(len(sudokuPuzzle)))\n",
    "#sudokuPuzzle"
   ]
  },
  {
   "cell_type": "code",
   "execution_count": null,
   "metadata": {},
   "outputs": [],
   "source": [
    "def copy_grid(sudoku):\n",
    "    copiedPuzzle = []\n",
    "    for i in range(len(sudoku)):\n",
    "        copiedPuzzle.append(list(sudoku[i]))\n",
    "    return copiedPuzzle\n",
    "#copy_grid(sudokuPuzzle)"
   ]
  },
  {
   "cell_type": "code",
   "execution_count": null,
   "metadata": {},
   "outputs": [],
   "source": [
    "def print_grid(grid):\n",
    "    for num in grid:\n",
    "        print(num)"
   ]
  },
  {
   "cell_type": "code",
   "execution_count": null,
   "metadata": {},
   "outputs": [],
   "source": [
    "def square_coordinates(sudoku, r, c):\n",
    "    square = []\n",
    "    row = []\n",
    "    square_size = int(math.sqrt(len(sudoku)))\n",
    "    for i in range((r - 1) * square_size, square_size + (r - 1) * square_size  ):\n",
    "        for j in range((c - 1) * square_size, square_size + (c - 1) * square_size ):\n",
    "            row.append(sudoku[i][j])\n",
    "        square.append(row)\n",
    "        row = []\n",
    "    return square\n",
    "            \n",
    "    \n",
    "#square_coordinates(sudokuPuzzle, 3, 3)\n",
    "    "
   ]
  },
  {
   "cell_type": "code",
   "execution_count": null,
   "metadata": {},
   "outputs": [],
   "source": [
    "def nonFixedPositions(sudoku, r, c):\n",
    "    emptyIndices = []\n",
    "    square_size = int(math.sqrt(len(sudoku)))\n",
    "    square = square_coordinates(sudoku, r, c)\n",
    "    for i in range(square_size):\n",
    "        for j in range(square_size):\n",
    "            if(square[i][j] == 0):\n",
    "                emptyIndices.append([i, j])\n",
    "    return emptyIndices\n",
    "#nonFixedPositions(sudokuPuzzle, 1, 2)"
   ]
  },
  {
   "cell_type": "code",
   "execution_count": null,
   "metadata": {},
   "outputs": [],
   "source": [
    "def pickRandomUnfixedPosition(sudoku, i, j):\n",
    "    randomIndex = random.randint(0, len(nonFixedPositions(sudoku, i, j)) - 1)\n",
    "    return nonFixedPositions(sudoku, i, j)[randomIndex]\n",
    "pickRandomUnfixedPosition(sudokuPuzzle, 1, 2)"
   ]
  },
  {
   "cell_type": "code",
   "execution_count": null,
   "metadata": {},
   "outputs": [],
   "source": [
    "def possibleNumsList(sudoku, i, j):\n",
    "    nonPossibilities = []\n",
    "    possibilities = []\n",
    "    square = square_coordinates(sudoku, i, j)\n",
    "    for row in square:\n",
    "        for num in row:\n",
    "            if (num != 0):\n",
    "                nonPossibilities.append(num)\n",
    "    for n in range(1, len(sudoku) + 1):\n",
    "        if (n not in nonPossibilities):\n",
    "            possibilities.append(n)\n",
    "    return possibilities\n",
    "\n",
    "#possibleNumsList(sudokuPuzzle, 2, 2)"
   ]
  },
  {
   "cell_type": "code",
   "execution_count": null,
   "metadata": {},
   "outputs": [],
   "source": [
    "def fillBox(sudoku, i, j):\n",
    "    box = square_coordinates(sudoku, i, j)\n",
    "    listOfPossibilities = possibleNumsList(sudokuPuzzle, i, j)\n",
    "    notFixedPositions = nonFixedPositions(sudoku, i, j)\n",
    "    for x in range(len(notFixedPositions)):\n",
    "       box[notFixedPositions[x][0]][notFixedPositions[x][1]] = listOfPossibilities[x]\n",
    "    return np.array(box)\n",
    "#fillBox(sudokuPuzzle, 1, 2)"
   ]
  },
  {
   "cell_type": "code",
   "execution_count": null,
   "metadata": {},
   "outputs": [],
   "source": [
    "def fillAllBoxes(sudoku):\n",
    "    A = []\n",
    "    B = []\n",
    "    square_size = int(math.sqrt(len(sudoku)))\n",
    "    for i in range(1, square_size + 1):\n",
    "        for j in range(1, square_size + 1):\n",
    "            A.append(fillBox(sudoku, i, j))\n",
    "\n",
    "###copied this part completely cause nahi ho raha tha, we need to \n",
    "###figure a better way to do this.\n",
    "    for i in range(3):    \n",
    "        B.append(np.concatenate((A[0][i], A[1][i], A[2][i]), axis=None).tolist())\n",
    "    for i in range(3):    \n",
    "        B.append(np.concatenate((A[3][i], A[4][i], A[5][i]), axis=None).tolist())\n",
    "    for i in range(3):    \n",
    "        B.append(np.concatenate((A[6][i], A[7][i], A[8][i]), axis=None).tolist())\n",
    "    return B\n",
    "print_grid(fillAllBoxes(sudokuPuzzle))\n",
    "print_grid(sudokuPuzzle)\n"
   ]
  },
  {
   "cell_type": "code",
   "execution_count": null,
   "metadata": {},
   "outputs": [],
   "source": [
    "filledSudoku = fillAllBoxes(sudokuPuzzle)\n",
    "filledSudokuCopy = copy_grid(filledSudoku)\n",
    "#filledSudoku"
   ]
  },
  {
   "cell_type": "code",
   "execution_count": null,
   "metadata": {},
   "outputs": [],
   "source": [
    "##Cost is the numbers that are missing from the line\n",
    "\"\"\"for example in line 1 [1, 2, 3, 1, 3, 2, 6, 1, 2]\n",
    "numbers 4, 5, 7, 8, 9 are missing, so cost = 5\n",
    "\n",
    "\"equate cost to the number of\n",
    "constraint violations\"\n",
    "\"\"\"\n",
    "def costOfRow(sudoku):\n",
    "    costList = []\n",
    "    for i in range(len(sudoku)):\n",
    "        row = sudoku[i]\n",
    "        cost = 0\n",
    "        for num in range(len(row)):\n",
    "            if row.count(num + 1) == 0:\n",
    "                cost += 1\n",
    "        costList.append(cost)\n",
    "    return sum(costList)\n",
    "costOfRow(filledSudoku)"
   ]
  },
  {
   "cell_type": "code",
   "execution_count": null,
   "metadata": {},
   "outputs": [],
   "source": [
    "def costOfColumn(sudoku):\n",
    "    costList = []\n",
    "    transposedSudoku = np.transpose(sudoku)\n",
    "    for i in range(len(sudoku)):\n",
    "        col = transposedSudoku[i]\n",
    "        cost = 0\n",
    "        for num in range(len(col)):\n",
    "            if col.tolist().count(num + 1) == 0:\n",
    "                cost += 1\n",
    "        costList.append(cost)\n",
    "    return sum(costList)\n",
    "costOfColumn(filledSudoku)"
   ]
  },
  {
   "cell_type": "code",
   "execution_count": null,
   "metadata": {},
   "outputs": [],
   "source": [
    "def totalCost(sudoku):\n",
    "    return costOfRow(sudoku) + costOfColumn(sudoku)\n",
    "totalCost(filledSudoku)"
   ]
  },
  {
   "cell_type": "code",
   "execution_count": null,
   "metadata": {},
   "outputs": [],
   "source": [
    "def changeCoordinates(i1, j1, i2, j2):\n",
    "    return [(i1 - 1) * box_size + i2 , (j1 - 1) * box_size + j2]\n",
    "#changeCoordinates(2,2,0,3)"
   ]
  },
  {
   "cell_type": "code",
   "execution_count": null,
   "metadata": {},
   "outputs": [],
   "source": [
    "def swapCells(sudoku):\n",
    "    swapped_sudoku = copy_grid((sudoku))\n",
    "    sudoku_length = len(sudoku)\n",
    "    box_length = int((sudoku_length) ** (1/2.0))\n",
    "    #choose a random box\n",
    "    box_coordinate_1 = random.randint(1, box_length)\n",
    "    box_coordinate_2 = random.randint(1, box_length)\n",
    "    #box = square_coordinates(sudoku, box_coordinate_1, box_coordinate_2)\n",
    "    unfixedPositionList = nonFixedPositions(sudokuPuzzle, box_coordinate_1, box_coordinate_2)\n",
    "\n",
    "    #choose 2 random cells in non fixed positions of randomly selected box\n",
    "    coordinate1 = random.randint(0, len(unfixedPositionList) - 1)\n",
    "    cell1_coordinates = unfixedPositionList[coordinate1]\n",
    "    coordinate2 = random.randint(0, len(unfixedPositionList) - 1)\n",
    "    while(coordinate1 == coordinate2):\n",
    "        coordinate2 = random.randint(0, len(unfixedPositionList) - 1)\n",
    "    cell2_coordinates = unfixedPositionList[coordinate2]\n",
    "\n",
    "    revised_cell1_coordinates = changeCoordinates(box_coordinate_1, box_coordinate_2, cell1_coordinates[0], cell1_coordinates[1])\n",
    "    revised_cell2_coordinates = changeCoordinates(box_coordinate_1, box_coordinate_2, cell2_coordinates[0], cell2_coordinates[1])\n",
    "    # print(revised_cell1_coordinates)\n",
    "    # print(revised_cell2_coordinates)\n",
    "    # print_grid(swapped_sudoku)\n",
    "    # print()\n",
    "    #performing the swap\n",
    "    swapped_sudoku[revised_cell1_coordinates[0]][revised_cell1_coordinates[1]], swapped_sudoku[revised_cell2_coordinates[0]][revised_cell2_coordinates[1]] = \\\n",
    "    swapped_sudoku[revised_cell2_coordinates[0]][revised_cell2_coordinates[1]], swapped_sudoku[revised_cell1_coordinates[0]][revised_cell1_coordinates[1]]\n",
    "    # print_grid(swapped_sudoku)\n",
    "    # print()\n",
    "    return swapped_sudoku \n",
    "swapCells(filledSudokuCopy)\n",
    "# print_grid(filledSudokuCopy)"
   ]
  },
  {
   "cell_type": "code",
   "execution_count": null,
   "metadata": {},
   "outputs": [],
   "source": [
    "# Simulated annealing performs the latter using what’s called an acceptance probability. \n",
    "# The acceptance probability is used to determine whether we want to move to a neighbouring state or not. \n",
    "# There are a few basic properties of the acceptance probability.\n",
    "\n",
    "# If the neighbouring state has lesser or equal cost, then we will always move to it.\n",
    "\n",
    "# If it has greater cost, we will only move to it with a certain probability. \n",
    "# Otherwise we’ll stay where we are and choose another neighbour. \n",
    "# We define the cost delta denoted by Δc, which is simply the current cost subtracted from the neighbour cost, \n",
    "# and a parameter t, which stands for temperature, and influences how likely we are to accept the neighbouring state."
   ]
  },
  {
   "cell_type": "code",
   "execution_count": null,
   "metadata": {},
   "outputs": [],
   "source": [
    "#anneal algo (STILL NEED TO UNDERSTAND)\n",
    "def recocidoSimulado(sudo):        \n",
    "    sudoCopy = copy_grid(sudo)        \n",
    "    costs = 0    \n",
    "    temp = 150 \n",
    "    while temp > 1 :        \n",
    "        changeProb = 0        \n",
    "        iterations = 2000\n",
    "        for i in range(iterations) :            \n",
    "            if totalCost(sudoCopy) == 0:\n",
    "                print(\"Sudoku solved\")\n",
    "                return sudoCopy                \n",
    "            sudoAfter = swapCells(sudoCopy)\n",
    "            delta = totalCost(sudoAfter) - totalCost(sudoCopy)            \n",
    "            if (delta <= 0):\n",
    "                sudoCopy = sudoAfter\n",
    "            else :\n",
    "                uniformValue = random.uniform(0, 1)\n",
    "                if (uniformValue <= exp(-30 * delta/temp)):\n",
    "                    #changeProb += 1\n",
    "                    sudoCopy = sudoAfter            \n",
    "            costs = (totalCost(sudoCopy))\n",
    "            print(costs)\n",
    "        temp = 0.9 * temp  \n",
    "    return sudoCopy\n",
    "recocidoSimulado(filledSudoku)"
   ]
  },
  {
   "cell_type": "code",
   "execution_count": null,
   "metadata": {},
   "outputs": [],
   "source": [
    "solution = recocidoSimulado(filledSudoku)\n",
    "print_grid(solution)"
   ]
  }
 ],
 "metadata": {
  "interpreter": {
   "hash": "e23b2566916bf82def23edaac6dbf7c63e02da7d50271d8a8afcc16cc15065a3"
  },
  "kernelspec": {
   "display_name": "Python 3.9.6 64-bit",
   "name": "python3"
  },
  "language_info": {
   "codemirror_mode": {
    "name": "ipython",
    "version": 3
   },
   "file_extension": ".py",
   "mimetype": "text/x-python",
   "name": "python",
   "nbconvert_exporter": "python",
   "pygments_lexer": "ipython3",
   "version": "3.9.6"
  },
  "orig_nbformat": 4
 },
 "nbformat": 4,
 "nbformat_minor": 2
}
